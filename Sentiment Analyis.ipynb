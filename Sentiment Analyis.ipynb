{
 "cells": [
  {
   "cell_type": "markdown",
   "metadata": {},
   "source": [
    "# Sentiment Analysis using natural language processing techniques "
   ]
  },
  {
   "cell_type": "markdown",
   "metadata": {},
   "source": [
    "\n",
    "Creating a model to analyse the sentiment of the reviews using natural language processing techniques.Where, the sentiment labels are:\n",
    "\n",
    "0 - negative\n",
    "\n",
    "1 - somewhat negative\n",
    "\n",
    "2 - neutral\n",
    "\n",
    "3 - somewhat positive\n",
    "\n",
    "4 - positive\n"
   ]
  },
  {
   "cell_type": "markdown",
   "metadata": {},
   "source": [
    "# Importing the Packages"
   ]
  },
  {
   "cell_type": "code",
   "execution_count": 1,
   "metadata": {},
   "outputs": [],
   "source": [
    "import numpy as np  # working with arrays\n",
    "import pandas as pd # data processing\n",
    "import matplotlib.pyplot as plt  #matplotlib\n",
    "import seaborn as sns  #statistical graphics\n",
    "import os  #operating system\n",
    " \n",
    "#NLP libraries\n",
    "import nltk #natural language processing\n",
    "from nltk import word_tokenize  #extract the tokens from string of characters\n",
    "from sklearn.feature_extraction.text import CountVectorizer  #transforming text into vector\n",
    "from sklearn.feature_extraction.text import TfidfVectorizer  #Convert raw documents to a matrix \n",
    "from collections import Counter  #count the key-value pairs in an object\n",
    "from wordcloud import WordCloud  #Exploratory Data Analysis for Natural Language Processing \n",
    "\n",
    "#Modeling Packages\n",
    "from sklearn.model_selection import train_test_split #splitting data arrays\n",
    "from sklearn.linear_model import LogisticRegression #Logistic Regression \n",
    "from sklearn.ensemble import RandomForestClassifier #random forest\n",
    "from sklearn.metrics import accuracy_score #subset accuracy\n",
    "from sklearn.metrics import f1_score #balanced F-score\n",
    "\n",
    "from pylab import rcParams #Create a new figure\n",
    "import warnings  #Warning control\n",
    "warnings.filterwarnings(\"ignore\")\n",
    "rcParams['figure.figsize'] = 14,6\n",
    "plt.style.use(\"ggplot\")"
   ]
  },
  {
   "cell_type": "markdown",
   "metadata": {},
   "source": [
    "# Importing Data"
   ]
  },
  {
   "cell_type": "code",
   "execution_count": 2,
   "metadata": {},
   "outputs": [
    {
     "data": {
      "text/html": [
       "<div>\n",
       "<style scoped>\n",
       "    .dataframe tbody tr th:only-of-type {\n",
       "        vertical-align: middle;\n",
       "    }\n",
       "\n",
       "    .dataframe tbody tr th {\n",
       "        vertical-align: top;\n",
       "    }\n",
       "\n",
       "    .dataframe thead th {\n",
       "        text-align: right;\n",
       "    }\n",
       "</style>\n",
       "<table border=\"1\" class=\"dataframe\">\n",
       "  <thead>\n",
       "    <tr style=\"text-align: right;\">\n",
       "      <th></th>\n",
       "      <th>PhraseId</th>\n",
       "      <th>SentenceId</th>\n",
       "      <th>Phrase</th>\n",
       "      <th>Sentiment</th>\n",
       "    </tr>\n",
       "  </thead>\n",
       "  <tbody>\n",
       "    <tr>\n",
       "      <th>0</th>\n",
       "      <td>1</td>\n",
       "      <td>1</td>\n",
       "      <td>A series of escapades demonstrating the adage ...</td>\n",
       "      <td>1</td>\n",
       "    </tr>\n",
       "    <tr>\n",
       "      <th>1</th>\n",
       "      <td>2</td>\n",
       "      <td>1</td>\n",
       "      <td>A series of escapades demonstrating the adage ...</td>\n",
       "      <td>2</td>\n",
       "    </tr>\n",
       "    <tr>\n",
       "      <th>2</th>\n",
       "      <td>3</td>\n",
       "      <td>1</td>\n",
       "      <td>A series</td>\n",
       "      <td>2</td>\n",
       "    </tr>\n",
       "    <tr>\n",
       "      <th>3</th>\n",
       "      <td>4</td>\n",
       "      <td>1</td>\n",
       "      <td>A</td>\n",
       "      <td>2</td>\n",
       "    </tr>\n",
       "    <tr>\n",
       "      <th>4</th>\n",
       "      <td>5</td>\n",
       "      <td>1</td>\n",
       "      <td>series</td>\n",
       "      <td>2</td>\n",
       "    </tr>\n",
       "    <tr>\n",
       "      <th>5</th>\n",
       "      <td>6</td>\n",
       "      <td>1</td>\n",
       "      <td>of escapades demonstrating the adage that what...</td>\n",
       "      <td>2</td>\n",
       "    </tr>\n",
       "    <tr>\n",
       "      <th>6</th>\n",
       "      <td>7</td>\n",
       "      <td>1</td>\n",
       "      <td>of</td>\n",
       "      <td>2</td>\n",
       "    </tr>\n",
       "    <tr>\n",
       "      <th>7</th>\n",
       "      <td>8</td>\n",
       "      <td>1</td>\n",
       "      <td>escapades demonstrating the adage that what is...</td>\n",
       "      <td>2</td>\n",
       "    </tr>\n",
       "    <tr>\n",
       "      <th>8</th>\n",
       "      <td>9</td>\n",
       "      <td>1</td>\n",
       "      <td>escapades</td>\n",
       "      <td>2</td>\n",
       "    </tr>\n",
       "    <tr>\n",
       "      <th>9</th>\n",
       "      <td>10</td>\n",
       "      <td>1</td>\n",
       "      <td>demonstrating the adage that what is good for ...</td>\n",
       "      <td>2</td>\n",
       "    </tr>\n",
       "  </tbody>\n",
       "</table>\n",
       "</div>"
      ],
      "text/plain": [
       "    PhraseId  SentenceId                                             Phrase  \\\n",
       "0          1           1  A series of escapades demonstrating the adage ...   \n",
       "1          2           1  A series of escapades demonstrating the adage ...   \n",
       "2          3           1                                           A series   \n",
       "3          4           1                                                  A   \n",
       "4          5           1                                             series   \n",
       "5          6           1  of escapades demonstrating the adage that what...   \n",
       "6          7           1                                                 of   \n",
       "7          8           1  escapades demonstrating the adage that what is...   \n",
       "8          9           1                                          escapades   \n",
       "9         10           1  demonstrating the adage that what is good for ...   \n",
       "\n",
       "   Sentiment  \n",
       "0          1  \n",
       "1          2  \n",
       "2          2  \n",
       "3          2  \n",
       "4          2  \n",
       "5          2  \n",
       "6          2  \n",
       "7          2  \n",
       "8          2  \n",
       "9          2  "
      ]
     },
     "execution_count": 2,
     "metadata": {},
     "output_type": "execute_result"
    }
   ],
   "source": [
    "reviews = pd.read_csv('SSS.csv')\n",
    "\n",
    "reviews.head(10)"
   ]
  },
  {
   "cell_type": "markdown",
   "metadata": {},
   "source": [
    "I will be working on a .csv file that contains information about thousands of reviews of the customers.Each review consists of a textual feedback along with a 0 to 4 star rating system( 0 being negative, 4 being positive and 2 being netural). In this way attributes are available in the data.\n",
    "\n",
    "PhraseID(Numerical) : Sequence of the reviews.\n",
    "    \n",
    "SentenceID(Numerical) : Sequence of the words in each phrase\n",
    "    \n",
    "Phrase(Text) : Text of the review\n",
    "    \n",
    "Sentiment(numerical) : 0 to 4 star rating"
   ]
  },
  {
   "cell_type": "markdown",
   "metadata": {},
   "source": [
    "# EDA"
   ]
  },
  {
   "cell_type": "code",
   "execution_count": 3,
   "metadata": {},
   "outputs": [
    {
     "data": {
      "text/html": [
       "<div>\n",
       "<style scoped>\n",
       "    .dataframe tbody tr th:only-of-type {\n",
       "        vertical-align: middle;\n",
       "    }\n",
       "\n",
       "    .dataframe tbody tr th {\n",
       "        vertical-align: top;\n",
       "    }\n",
       "\n",
       "    .dataframe thead th {\n",
       "        text-align: right;\n",
       "    }\n",
       "</style>\n",
       "<table border=\"1\" class=\"dataframe\">\n",
       "  <thead>\n",
       "    <tr style=\"text-align: right;\">\n",
       "      <th></th>\n",
       "      <th>PhraseId</th>\n",
       "      <th>SentenceId</th>\n",
       "      <th>Phrase</th>\n",
       "      <th>Sentiment</th>\n",
       "    </tr>\n",
       "  </thead>\n",
       "  <tbody>\n",
       "    <tr>\n",
       "      <th>0</th>\n",
       "      <td>1</td>\n",
       "      <td>1</td>\n",
       "      <td>A series of escapades demonstrating the adage ...</td>\n",
       "      <td>1</td>\n",
       "    </tr>\n",
       "    <tr>\n",
       "      <th>1</th>\n",
       "      <td>2</td>\n",
       "      <td>1</td>\n",
       "      <td>A series of escapades demonstrating the adage ...</td>\n",
       "      <td>2</td>\n",
       "    </tr>\n",
       "    <tr>\n",
       "      <th>2</th>\n",
       "      <td>3</td>\n",
       "      <td>1</td>\n",
       "      <td>A series</td>\n",
       "      <td>2</td>\n",
       "    </tr>\n",
       "    <tr>\n",
       "      <th>3</th>\n",
       "      <td>4</td>\n",
       "      <td>1</td>\n",
       "      <td>A</td>\n",
       "      <td>2</td>\n",
       "    </tr>\n",
       "    <tr>\n",
       "      <th>4</th>\n",
       "      <td>5</td>\n",
       "      <td>1</td>\n",
       "      <td>series</td>\n",
       "      <td>2</td>\n",
       "    </tr>\n",
       "    <tr>\n",
       "      <th>5</th>\n",
       "      <td>6</td>\n",
       "      <td>1</td>\n",
       "      <td>of escapades demonstrating the adage that what...</td>\n",
       "      <td>2</td>\n",
       "    </tr>\n",
       "    <tr>\n",
       "      <th>6</th>\n",
       "      <td>7</td>\n",
       "      <td>1</td>\n",
       "      <td>of</td>\n",
       "      <td>2</td>\n",
       "    </tr>\n",
       "    <tr>\n",
       "      <th>7</th>\n",
       "      <td>8</td>\n",
       "      <td>1</td>\n",
       "      <td>escapades demonstrating the adage that what is...</td>\n",
       "      <td>2</td>\n",
       "    </tr>\n",
       "    <tr>\n",
       "      <th>8</th>\n",
       "      <td>9</td>\n",
       "      <td>1</td>\n",
       "      <td>escapades</td>\n",
       "      <td>2</td>\n",
       "    </tr>\n",
       "    <tr>\n",
       "      <th>9</th>\n",
       "      <td>10</td>\n",
       "      <td>1</td>\n",
       "      <td>demonstrating the adage that what is good for ...</td>\n",
       "      <td>2</td>\n",
       "    </tr>\n",
       "  </tbody>\n",
       "</table>\n",
       "</div>"
      ],
      "text/plain": [
       "    PhraseId  SentenceId                                             Phrase  \\\n",
       "0          1           1  A series of escapades demonstrating the adage ...   \n",
       "1          2           1  A series of escapades demonstrating the adage ...   \n",
       "2          3           1                                           A series   \n",
       "3          4           1                                                  A   \n",
       "4          5           1                                             series   \n",
       "5          6           1  of escapades demonstrating the adage that what...   \n",
       "6          7           1                                                 of   \n",
       "7          8           1  escapades demonstrating the adage that what is...   \n",
       "8          9           1                                          escapades   \n",
       "9         10           1  demonstrating the adage that what is good for ...   \n",
       "\n",
       "   Sentiment  \n",
       "0          1  \n",
       "1          2  \n",
       "2          2  \n",
       "3          2  \n",
       "4          2  \n",
       "5          2  \n",
       "6          2  \n",
       "7          2  \n",
       "8          2  \n",
       "9          2  "
      ]
     },
     "execution_count": 3,
     "metadata": {},
     "output_type": "execute_result"
    }
   ],
   "source": [
    "reviews.head(10)"
   ]
  },
  {
   "cell_type": "markdown",
   "metadata": {},
   "source": [
    "Looking at the distribution of number of words per review. The reviews are already split in number of sentences.Plotting a graph for better visualization"
   ]
  },
  {
   "cell_type": "code",
   "execution_count": 4,
   "metadata": {},
   "outputs": [
    {
     "data": {
      "image/png": "[encoded data removed]",
      "text/plain": [
       "<Figure size 1008x432 with 1 Axes>"
      ]
     },
     "metadata": {},
     "output_type": "display_data"
    }
   ],
   "source": [
    "words_per_Phrase = reviews.Phrase.apply(lambda x:len(x.split(\" \")))\n",
    "words_per_Phrase.hist(bins =100)\n",
    "plt.xlabel(\"Review length(words)\")\n",
    "plt.ylabel(\"Frequency\")\n",
    "plt.show()"
   ]
  },
  {
   "cell_type": "markdown",
   "metadata": {},
   "source": [
    "Observation: Maximum of 1 word review is in the phrase which counts of more then 25000 reviews.\n",
    "\n"
   ]
  },
  {
   "cell_type": "code",
   "execution_count": 5,
   "metadata": {},
   "outputs": [
    {
     "name": "stdout",
     "output_type": "stream",
     "text": [
      "Average Words :  7.193502499038831\n",
      "skewness: 1.8607167774325724\n"
     ]
    }
   ],
   "source": [
    "print(\"Average Words : \", words_per_Phrase.mean())\n",
    "print(\"skewness:\", words_per_Phrase.skew())"
   ]
  },
  {
   "cell_type": "markdown",
   "metadata": {},
   "source": [
    "Observation: The number of words per user review is varying between somewhat negative to netural with the mean of 7.2, which means on an average, user review has 7 words."
   ]
  },
  {
   "cell_type": "code",
   "execution_count": 6,
   "metadata": {},
   "outputs": [
    {
     "data": {
      "text/plain": [
       "2    50.994489\n",
       "3    21.098936\n",
       "1    17.475971\n",
       "4     5.899013\n",
       "0     4.531590\n",
       "Name: Sentiment, dtype: float64"
      ]
     },
     "execution_count": 6,
     "metadata": {},
     "output_type": "execute_result"
    }
   ],
   "source": [
    "#Distribution of ratings of sentiment.\n",
    "\n",
    "percent_val = 100*reviews['Sentiment'].value_counts()/len(reviews)\n",
    "percent_val"
   ]
  },
  {
   "cell_type": "markdown",
   "metadata": {},
   "source": [
    "Observation: 50% of the reviews has netural rating,21% with 3 ratings are somewhat positive,17% with 1 ratings are somewhat negative,5% with 4 rating are positive and 4% with 0 rating are negative.\n",
    "\n",
    "In short, 50% of the reviews are netural, with only 4% of negative reviews."
   ]
  },
  {
   "cell_type": "code",
   "execution_count": 7,
   "metadata": {},
   "outputs": [
    {
     "data": {
      "image/png": "[encoded data removed]",
      "text/plain": [
       "<Figure size 1008x432 with 1 Axes>"
      ]
     },
     "metadata": {},
     "output_type": "display_data"
    }
   ],
   "source": [
    "percent_val.plot.bar()\n",
    "plt.show()"
   ]
  },
  {
   "cell_type": "markdown",
   "metadata": {},
   "source": [
    "Observation: The distribution is quite skewed with more then 50% of 2s and very few 4s and 0s."
   ]
  },
  {
   "cell_type": "markdown",
   "metadata": {},
   "source": [
    "# Phrase Visualization using WordCloud"
   ]
  },
  {
   "cell_type": "markdown",
   "metadata": {},
   "source": [
    "As visualization is important for numerical data, it is also important for phrase(text) data.However, the text doesnot lend itself to histograms charts, scatterplots as numerical data does. In such cases, word clouds are common and very useful tool for text distribution."
   ]
  },
  {
   "cell_type": "code",
   "execution_count": 8,
   "metadata": {},
   "outputs": [
    {
     "data": {
      "image/png": "[encoded data removed]",
      "text/plain": [
       "<Figure size 1008x432 with 1 Axes>"
      ]
     },
     "metadata": {},
     "output_type": "display_data"
    }
   ],
   "source": [
    "word_cloud_phrase = ''.join(reviews['Phrase'])\n",
    "\n",
    "wordcloud = WordCloud(max_font_size = 100,#Maximum font size of largest word)\n",
    "                      max_words = 100, #The Maximum number of words\n",
    "                      background_color= \"white\", #background color of the wordcloud image\n",
    "                      scale = 10, #scaling between computation and drawing\n",
    "                      width = 800, # width of the canvas\n",
    "                      height = 400, #height of the canvas\n",
    "                     ).generate(word_cloud_phrase)\n",
    "plt.figure()\n",
    "plt.imshow(wordcloud,\n",
    "           interpolation='bilinear') #to make the display image appear more smoothly\n",
    "plt.axis(\"off\")\n",
    "plt.show()"
   ]
  },
  {
   "cell_type": "markdown",
   "metadata": {},
   "source": [
    "The word cloud indicated that many of the reviews talk about movie-related stuff like - movie, film, character, performance.We can also see some of the positive words like - good, interesting,funny,better, love as well as not desired ones like bad, never, can't, n't,nothing.\n",
    "\n",
    "The words which have appeared on the canvas are with the high frequency, the larger the word size the number of times it is used.\n",
    "\n",
    "Movie,film,make,story, one etc are the words which were used in multiple reviews. There are few words like S, n't, u,RRB, new which are quite not telling us what this is about, so I'll go with some technique to delete or drop some of the words which are not telling us anything."
   ]
  },
  {
   "cell_type": "markdown",
   "metadata": {},
   "source": [
    "# Standardizing the rating of Sentiment Analysis"
   ]
  },
  {
   "cell_type": "markdown",
   "metadata": {},
   "source": [
    "For the purpose of sentiment analysis, i'll convert all of the ratings to binary values using the following rules.\n",
    "\n",
    "1. Rating of 3 or 4, i'll get mapped to 1 and will be related to positive reviews.\n",
    "2. Rating of 0 or 1, i'll get mapped to 0 and will be related to negative reviews.\n",
    "3. Rating of 2 will be removed since they'll represent netural reviews."
   ]
  },
  {
   "cell_type": "code",
   "execution_count": 9,
   "metadata": {},
   "outputs": [
    {
     "data": {
      "text/plain": [
       "1    42133\n",
       "0    34345\n",
       "Name: Sentiment_Rating, dtype: int64"
      ]
     },
     "execution_count": 9,
     "metadata": {},
     "output_type": "execute_result"
    }
   ],
   "source": [
    "#Mapping the ratings\n",
    "reviews['Sentiment_Rating'] = np.where(reviews.Sentiment > 2,1,0)\n",
    "\n",
    "#Removing netual reviews\n",
    "reviews = reviews[reviews.Sentiment !=2]\n",
    "\n",
    "#Printing the count of each class\n",
    "reviews['Sentiment_Rating'].value_counts()"
   ]
  },
  {
   "cell_type": "markdown",
   "metadata": {},
   "source": [
    "Observation: The output here shows positive reviews by 1 which are 42133 reviews, whereas negative reviews are shown by 0 which are 34345, which are quite close."
   ]
  },
  {
   "cell_type": "code",
   "execution_count": 10,
   "metadata": {},
   "outputs": [
    {
     "data": {
      "image/png": "[encoded data removed]",
      "text/plain": [
       "<Figure size 1008x432 with 1 Axes>"
      ]
     },
     "metadata": {},
     "output_type": "display_data"
    }
   ],
   "source": [
    "reviews.Sentiment_Rating.value_counts().plot.bar()\n",
    "plt.show()"
   ]
  },
  {
   "cell_type": "markdown",
   "metadata": {},
   "source": [
    "There is a class imbalance which we are going to handle by robust metrics"
   ]
  },
  {
   "cell_type": "markdown",
   "metadata": {},
   "source": [
    "# Pre-Processing\n",
    "\n",
    "Text processing and normalization is crucial before building a proper NLP model.Some of the steps are:\n",
    "\n",
    "1. Converting words to upper/lower case.\n",
    "2. Removing special characters.\n",
    "3. Removing stopwords and high/low frequency words.\n",
    "4. Stemming/lemmatization"
   ]
  },
  {
   "cell_type": "markdown",
   "metadata": {},
   "source": [
    "# 1. Converting Words to Upper/lower Case"
   ]
  },
  {
   "cell_type": "code",
   "execution_count": 11,
   "metadata": {},
   "outputs": [],
   "source": [
    "reviews['review_phrase_new'] = reviews['Phrase'].str.lower()"
   ]
  },
  {
   "cell_type": "markdown",
   "metadata": {},
   "source": [
    "In the following code cell we analyze the number of unique words that are found in reviews before and after applying this step. This process of extracting individual words is called \"Word Tokenization\",and can be run using the \"word_tokenize\" function in nltk package."
   ]
  },
  {
   "cell_type": "code",
   "execution_count": 12,
   "metadata": {},
   "outputs": [],
   "source": [
    "from nltk import word_tokenize"
   ]
  },
  {
   "cell_type": "code",
   "execution_count": 13,
   "metadata": {},
   "outputs": [
    {
     "name": "stdout",
     "output_type": "stream",
     "text": [
      "Number of unique tokens then:  17879\n",
      "Number of unique tokens now:  16263\n"
     ]
    }
   ],
   "source": [
    "#For reviews not converted to lower case\n",
    "token_lists = [word_tokenize(each) for each in reviews['Phrase']]\n",
    "tokens = [item for sublist in token_lists for item in sublist]\n",
    "print(\"Number of unique tokens then: \", len(set(tokens)))\n",
    "\n",
    "#For reviews converted to lower case\n",
    "token_lists_lower= [word_tokenize(each) for each in reviews['review_phrase_new']]\n",
    "tokens_lower = [item for sublist in token_lists_lower for item in sublist]\n",
    "print(\"Number of unique tokens now: \", len(set(tokens_lower)))"
   ]
  },
  {
   "cell_type": "markdown",
   "metadata": {},
   "source": [
    "The number of tokens have gone down by 9%,just by normalizing the corpus.\n",
    "\n",
    "Removing special characters is a subjective call, especially in cases like this.People often use special characters to express their emotions and might leave review like \"I didn't like this movie!!\",while the positive review could be like \" I loved this movie, its amazing!!\".\n",
    "\n",
    "Here, presence of exclamation marks clearly indicates something about the underlying sentiment, so removing them is a good idea. On the other hand, removing non emotionally charged puntuation such as commas, semicolns is likely safe."
   ]
  },
  {
   "cell_type": "markdown",
   "metadata": {},
   "source": [
    "# 2. Removing Special characters"
   ]
  },
  {
   "cell_type": "code",
   "execution_count": 14,
   "metadata": {},
   "outputs": [
    {
     "data": {
      "text/plain": [
       "{'!',\n",
       " '#',\n",
       " '$',\n",
       " '&',\n",
       " \"'\",\n",
       " '*',\n",
       " '+',\n",
       " ',',\n",
       " '-',\n",
       " '.',\n",
       " '/',\n",
       " ':',\n",
       " ';',\n",
       " '=',\n",
       " '?',\n",
       " '\\\\',\n",
       " '`'}"
      ]
     },
     "execution_count": 14,
     "metadata": {},
     "output_type": "execute_result"
    }
   ],
   "source": [
    "#special characters in the dataset.\n",
    "\n",
    "# selecting all non alpha numeric characters that are not spaces\n",
    "spl_chars = reviews['review_phrase_new'].apply(lambda review:\n",
    "                                                  [char for char in list (review) if not char.isalnum() and char != ' '])\n",
    "# Getting list of list into a single list\n",
    "flat_list = [item for sublist in spl_chars for item in sublist]\n",
    "\n",
    "#unique special charcaters\n",
    "set(flat_list)"
   ]
  },
  {
   "cell_type": "code",
   "execution_count": 15,
   "metadata": {},
   "outputs": [],
   "source": [
    "#removing special characters from the reviews by applying the regular expression:\n",
    "\n",
    "review_backup = reviews['review_phrase_new'].copy()\n",
    "reviews['review_phrase_new'] = reviews['review_phrase_new'].str.replace(r'[^A-Za-z0-9]+', ' ')"
   ]
  },
  {
   "cell_type": "markdown",
   "metadata": {},
   "source": [
    "Lets decompose the regular expression[^A-Za-z0-9]+ :\n",
    "\n",
    "1. [] : Match any character inside the list defined by the square brackets ,including the space character ' '.\n",
    "2. ^ : Start of the line\n",
    "3. A-Z : Accept english upper case characters from A to Z\n",
    "4. a-z : Accept english lower case characters from a to z\n",
    "5. 0-9 : Accept single numbers from 0 to 9\n",
    "\n",
    "We can see how review changes after removing these:"
   ]
  },
  {
   "cell_type": "code",
   "execution_count": 16,
   "metadata": {},
   "outputs": [
    {
     "name": "stdout",
     "output_type": "stream",
     "text": [
      " - Old Review - \n",
      ", this one is a sweet and modest and ultimately winning story .\n",
      "\n",
      " - New Review - \n",
      "aggressive self glorification and a manipulative whitewash\n"
     ]
    }
   ],
   "source": [
    "print(\" - Old Review - \")\n",
    "print(review_backup.values[157])\n",
    "print(\"\\n - New Review - \")\n",
    "print(reviews[\"review_phrase_new\"][157])"
   ]
  },
  {
   "cell_type": "markdown",
   "metadata": {},
   "source": [
    "# 3. Stopwords and high/low Frequency words"
   ]
  },
  {
   "cell_type": "markdown",
   "metadata": {},
   "source": [
    "Stopwords naturally occur very frequently in the engligh language without adding any context specific insights.It makes sense to remove them.Let's first review languages available in nltk package:"
   ]
  },
  {
   "cell_type": "code",
   "execution_count": 17,
   "metadata": {},
   "outputs": [
    {
     "name": "stdout",
     "output_type": "stream",
     "text": [
      "Available languages for NLTK v.3.4.5: \n",
      "['arabic', 'azerbaijani', 'danish', 'dutch', 'english', 'finnish', 'french', 'german', 'greek', 'hungarian', 'indonesian', 'italian', 'kazakh', 'nepali', 'norwegian', 'portuguese', 'romanian', 'russian', 'slovene', 'spanish', 'swedish', 'tajik', 'turkish']\n"
     ]
    }
   ],
   "source": [
    "from nltk.corpus import stopwords\n",
    "\n",
    "print('Available languages for NLTK v.3.4.5: ')\n",
    "print(stopwords.fileids())"
   ]
  },
  {
   "cell_type": "code",
   "execution_count": 18,
   "metadata": {},
   "outputs": [
    {
     "data": {
      "text/plain": [
       "['i',\n",
       " 'me',\n",
       " 'my',\n",
       " 'myself',\n",
       " 'we',\n",
       " 'our',\n",
       " 'ours',\n",
       " 'ourselves',\n",
       " 'you',\n",
       " \"you're\",\n",
       " \"you've\",\n",
       " \"you'll\",\n",
       " \"you'd\",\n",
       " 'your',\n",
       " 'yours',\n",
       " 'yourself',\n",
       " 'yourselves',\n",
       " 'he',\n",
       " 'him',\n",
       " 'his',\n",
       " 'himself',\n",
       " 'she',\n",
       " \"she's\",\n",
       " 'her',\n",
       " 'hers',\n",
       " 'herself',\n",
       " 'it',\n",
       " \"it's\",\n",
       " 'its',\n",
       " 'itself',\n",
       " 'they',\n",
       " 'them',\n",
       " 'their',\n",
       " 'theirs',\n",
       " 'themselves',\n",
       " 'what',\n",
       " 'which',\n",
       " 'who',\n",
       " 'whom',\n",
       " 'this',\n",
       " 'that',\n",
       " \"that'll\",\n",
       " 'these',\n",
       " 'those',\n",
       " 'am',\n",
       " 'is',\n",
       " 'are',\n",
       " 'was',\n",
       " 'were',\n",
       " 'be',\n",
       " 'been',\n",
       " 'being',\n",
       " 'have',\n",
       " 'has',\n",
       " 'had',\n",
       " 'having',\n",
       " 'do',\n",
       " 'does',\n",
       " 'did',\n",
       " 'doing',\n",
       " 'a',\n",
       " 'an',\n",
       " 'the',\n",
       " 'and',\n",
       " 'but',\n",
       " 'if',\n",
       " 'or',\n",
       " 'because',\n",
       " 'as',\n",
       " 'until',\n",
       " 'while',\n",
       " 'of',\n",
       " 'at',\n",
       " 'by',\n",
       " 'for',\n",
       " 'with',\n",
       " 'about',\n",
       " 'against',\n",
       " 'between',\n",
       " 'into',\n",
       " 'through',\n",
       " 'during',\n",
       " 'before',\n",
       " 'after',\n",
       " 'above',\n",
       " 'below',\n",
       " 'to',\n",
       " 'from',\n",
       " 'up',\n",
       " 'down',\n",
       " 'in',\n",
       " 'out',\n",
       " 'on',\n",
       " 'off',\n",
       " 'over',\n",
       " 'under',\n",
       " 'again',\n",
       " 'further',\n",
       " 'then',\n",
       " 'once',\n",
       " 'here',\n",
       " 'there',\n",
       " 'when',\n",
       " 'where',\n",
       " 'why',\n",
       " 'how',\n",
       " 'all',\n",
       " 'any',\n",
       " 'both',\n",
       " 'each',\n",
       " 'few',\n",
       " 'more',\n",
       " 'most',\n",
       " 'other',\n",
       " 'some',\n",
       " 'such',\n",
       " 'no',\n",
       " 'nor',\n",
       " 'not',\n",
       " 'only',\n",
       " 'own',\n",
       " 'same',\n",
       " 'so',\n",
       " 'than',\n",
       " 'too',\n",
       " 'very',\n",
       " 's',\n",
       " 't',\n",
       " 'can',\n",
       " 'will',\n",
       " 'just',\n",
       " 'don',\n",
       " \"don't\",\n",
       " 'should',\n",
       " \"should've\",\n",
       " 'now',\n",
       " 'd',\n",
       " 'll',\n",
       " 'm',\n",
       " 'o',\n",
       " 're',\n",
       " 've',\n",
       " 'y',\n",
       " 'ain',\n",
       " 'aren',\n",
       " \"aren't\",\n",
       " 'couldn',\n",
       " \"couldn't\",\n",
       " 'didn',\n",
       " \"didn't\",\n",
       " 'doesn',\n",
       " \"doesn't\",\n",
       " 'hadn',\n",
       " \"hadn't\",\n",
       " 'hasn',\n",
       " \"hasn't\",\n",
       " 'haven',\n",
       " \"haven't\",\n",
       " 'isn',\n",
       " \"isn't\",\n",
       " 'ma',\n",
       " 'mightn',\n",
       " \"mightn't\",\n",
       " 'mustn',\n",
       " \"mustn't\",\n",
       " 'needn',\n",
       " \"needn't\",\n",
       " 'shan',\n",
       " \"shan't\",\n",
       " 'shouldn',\n",
       " \"shouldn't\",\n",
       " 'wasn',\n",
       " \"wasn't\",\n",
       " 'weren',\n",
       " \"weren't\",\n",
       " 'won',\n",
       " \"won't\",\n",
       " 'wouldn',\n",
       " \"wouldn't\"]"
      ]
     },
     "execution_count": 18,
     "metadata": {},
     "output_type": "execute_result"
    }
   ],
   "source": [
    "#reviewing the English stopwords\n",
    "\n",
    "noise_words = []\n",
    "eng_stop_words = stopwords.words('english')\n",
    "eng_stop_words"
   ]
  },
  {
   "cell_type": "code",
   "execution_count": 19,
   "metadata": {},
   "outputs": [
    {
     "name": "stdout",
     "output_type": "stream",
     "text": [
      "-- Original Sentence --\n",
      " a series of escapades demonstrating the adage that what is good for the goose is also good for the gander some of which occasionally amuses but none of which amounts to much of a story \n",
      "-- Stopwords in the sentence --\n",
      " ['a', 'of', 'the', 'that', 'what', 'is', 'for', 'the', 'is', 'for', 'the', 'some', 'of', 'which', 'but', 'of', 'which', 'to', 'of', 'a']\n",
      "-- Non-stopwords in the sentence --\n",
      " ['series', 'escapades', 'demonstrating', 'adage', 'good', 'goose', 'also', 'good', 'gander', 'occasionally', 'amuses', 'none', 'amounts', 'much', 'story']\n"
     ]
    }
   ],
   "source": [
    "stop_words = set(eng_stop_words)\n",
    "without_stop_words = []\n",
    "stopword = []\n",
    "sentence = reviews['review_phrase_new'][0]\n",
    "words = nltk.word_tokenize(sentence)\n",
    "\n",
    "for word in words:\n",
    "    if word in stop_words:\n",
    "        stopword.append(word)\n",
    "    else:\n",
    "        without_stop_words.append(word)\n",
    "        \n",
    "print(\"-- Original Sentence --\\n\",sentence)\n",
    "print(\"-- Stopwords in the sentence --\\n\",stopword)\n",
    "print(\"-- Non-stopwords in the sentence --\\n\",without_stop_words)"
   ]
  },
  {
   "cell_type": "code",
   "execution_count": 20,
   "metadata": {},
   "outputs": [
    {
     "data": {
      "text/html": [
       "<div>\n",
       "<style scoped>\n",
       "    .dataframe tbody tr th:only-of-type {\n",
       "        vertical-align: middle;\n",
       "    }\n",
       "\n",
       "    .dataframe tbody tr th {\n",
       "        vertical-align: top;\n",
       "    }\n",
       "\n",
       "    .dataframe thead th {\n",
       "        text-align: right;\n",
       "    }\n",
       "</style>\n",
       "<table border=\"1\" class=\"dataframe\">\n",
       "  <thead>\n",
       "    <tr style=\"text-align: right;\">\n",
       "      <th></th>\n",
       "      <th>review_phrase_new</th>\n",
       "      <th>review_phrase_nonstop</th>\n",
       "    </tr>\n",
       "  </thead>\n",
       "  <tbody>\n",
       "    <tr>\n",
       "      <th>0</th>\n",
       "      <td>a series of escapades demonstrating the adage ...</td>\n",
       "      <td>[series, escapades, demonstrating, adage, good...</td>\n",
       "    </tr>\n",
       "    <tr>\n",
       "      <th>21</th>\n",
       "      <td>good for the goose</td>\n",
       "      <td>[series, escapades, demonstrating, adage, good...</td>\n",
       "    </tr>\n",
       "    <tr>\n",
       "      <th>22</th>\n",
       "      <td>good</td>\n",
       "      <td>[series, escapades, demonstrating, adage, good...</td>\n",
       "    </tr>\n",
       "    <tr>\n",
       "      <th>33</th>\n",
       "      <td>the gander some of which occasionally amuses b...</td>\n",
       "      <td>[series, escapades, demonstrating, adage, good...</td>\n",
       "    </tr>\n",
       "    <tr>\n",
       "      <th>46</th>\n",
       "      <td>amuses</td>\n",
       "      <td>[series, escapades, demonstrating, adage, good...</td>\n",
       "    </tr>\n",
       "    <tr>\n",
       "      <th>...</th>\n",
       "      <td>...</td>\n",
       "      <td>...</td>\n",
       "    </tr>\n",
       "    <tr>\n",
       "      <th>156047</th>\n",
       "      <td>quietly suggesting the sadness and obsession b...</td>\n",
       "      <td>[series, escapades, demonstrating, adage, good...</td>\n",
       "    </tr>\n",
       "    <tr>\n",
       "      <th>156051</th>\n",
       "      <td>sadness and obsession</td>\n",
       "      <td>[series, escapades, demonstrating, adage, good...</td>\n",
       "    </tr>\n",
       "    <tr>\n",
       "      <th>156052</th>\n",
       "      <td>sadness and</td>\n",
       "      <td>[series, escapades, demonstrating, adage, good...</td>\n",
       "    </tr>\n",
       "    <tr>\n",
       "      <th>156056</th>\n",
       "      <td>forced avuncular chortles</td>\n",
       "      <td>[series, escapades, demonstrating, adage, good...</td>\n",
       "    </tr>\n",
       "    <tr>\n",
       "      <th>156057</th>\n",
       "      <td>avuncular chortles</td>\n",
       "      <td>[series, escapades, demonstrating, adage, good...</td>\n",
       "    </tr>\n",
       "  </tbody>\n",
       "</table>\n",
       "<p>76478 rows × 2 columns</p>\n",
       "</div>"
      ],
      "text/plain": [
       "                                        review_phrase_new  \\\n",
       "0       a series of escapades demonstrating the adage ...   \n",
       "21                                     good for the goose   \n",
       "22                                                   good   \n",
       "33      the gander some of which occasionally amuses b...   \n",
       "46                                                 amuses   \n",
       "...                                                   ...   \n",
       "156047  quietly suggesting the sadness and obsession b...   \n",
       "156051                              sadness and obsession   \n",
       "156052                                        sadness and   \n",
       "156056                          forced avuncular chortles   \n",
       "156057                                 avuncular chortles   \n",
       "\n",
       "                                    review_phrase_nonstop  \n",
       "0       [series, escapades, demonstrating, adage, good...  \n",
       "21      [series, escapades, demonstrating, adage, good...  \n",
       "22      [series, escapades, demonstrating, adage, good...  \n",
       "33      [series, escapades, demonstrating, adage, good...  \n",
       "46      [series, escapades, demonstrating, adage, good...  \n",
       "...                                                   ...  \n",
       "156047  [series, escapades, demonstrating, adage, good...  \n",
       "156051  [series, escapades, demonstrating, adage, good...  \n",
       "156052  [series, escapades, demonstrating, adage, good...  \n",
       "156056  [series, escapades, demonstrating, adage, good...  \n",
       "156057  [series, escapades, demonstrating, adage, good...  \n",
       "\n",
       "[76478 rows x 2 columns]"
      ]
     },
     "execution_count": 20,
     "metadata": {},
     "output_type": "execute_result"
    }
   ],
   "source": [
    "# omitting stopwords from the reviews\n",
    "\n",
    "def stopwords_removal(stop_words,sentence):\n",
    "    return[word for word in nltk.word_tokenize(sentence) if word not in stop_words]\n",
    "reviews['review_phrase_nonstop'] = reviews[\"review_phrase_new\"].apply(lambda row: stopwords_removal(stop_words,sentence))\n",
    "reviews[[\"review_phrase_new\",\"review_phrase_nonstop\"]]"
   ]
  },
  {
   "cell_type": "markdown",
   "metadata": {},
   "source": [
    "# 4.Stemming and Lemmatization"
   ]
  },
  {
   "cell_type": "markdown",
   "metadata": {},
   "source": [
    "Last part of processing is stemming and lemmatization.\n",
    "\n",
    "1. Stemming : It works by cutting end or beginning of the word,taking into account a list of common prefixes and suffixes that can be found.\n",
    "\n",
    "\n",
    "2. Lemmatization: It takes into consideration the morphological analyis of the words. So lemmatization considers the grammar of the word and tries to find the root word instead of just getting the root word by brute force methods."
   ]
  },
  {
   "cell_type": "code",
   "execution_count": 21,
   "metadata": {},
   "outputs": [
    {
     "name": "stderr",
     "output_type": "stream",
     "text": [
      "[nltk_data] Downloading package wordnet to C:\\Users\\Lafange\n",
      "[nltk_data]     Parindey\\AppData\\Roaming\\nltk_data...\n",
      "[nltk_data]   Package wordnet is already up-to-date!\n"
     ]
    }
   ],
   "source": [
    "from nltk.stem import PorterStemmer,LancasterStemmer #common Stemmers\n",
    "from nltk.stem import WordNetLemmatizer #common lemmatizer\n",
    "nltk.download(\"wordnet\")\n",
    "from nltk.corpus import wordnet\n",
    "\n",
    "porter = PorterStemmer()\n",
    "lancaster = LancasterStemmer()\n",
    "lemmatizaer = WordNetLemmatizer()"
   ]
  },
  {
   "cell_type": "markdown",
   "metadata": {},
   "source": [
    "# Building a machine learning model"
   ]
  },
  {
   "cell_type": "markdown",
   "metadata": {},
   "source": [
    "Now we have 2 cleared up versions of 2 very important pieces of data - the actual review phrase and its corresponding sentiment rating."
   ]
  },
  {
   "cell_type": "code",
   "execution_count": 22,
   "metadata": {},
   "outputs": [
    {
     "data": {
      "text/html": [
       "<div>\n",
       "<style scoped>\n",
       "    .dataframe tbody tr th:only-of-type {\n",
       "        vertical-align: middle;\n",
       "    }\n",
       "\n",
       "    .dataframe tbody tr th {\n",
       "        vertical-align: top;\n",
       "    }\n",
       "\n",
       "    .dataframe thead th {\n",
       "        text-align: right;\n",
       "    }\n",
       "</style>\n",
       "<table border=\"1\" class=\"dataframe\">\n",
       "  <thead>\n",
       "    <tr style=\"text-align: right;\">\n",
       "      <th></th>\n",
       "      <th>Phrase</th>\n",
       "      <th>Sentiment_Rating</th>\n",
       "    </tr>\n",
       "  </thead>\n",
       "  <tbody>\n",
       "    <tr>\n",
       "      <th>0</th>\n",
       "      <td>A series of escapades demonstrating the adage ...</td>\n",
       "      <td>0</td>\n",
       "    </tr>\n",
       "    <tr>\n",
       "      <th>21</th>\n",
       "      <td>good for the goose</td>\n",
       "      <td>1</td>\n",
       "    </tr>\n",
       "    <tr>\n",
       "      <th>22</th>\n",
       "      <td>good</td>\n",
       "      <td>1</td>\n",
       "    </tr>\n",
       "    <tr>\n",
       "      <th>33</th>\n",
       "      <td>the gander , some of which occasionally amuses...</td>\n",
       "      <td>0</td>\n",
       "    </tr>\n",
       "    <tr>\n",
       "      <th>46</th>\n",
       "      <td>amuses</td>\n",
       "      <td>1</td>\n",
       "    </tr>\n",
       "    <tr>\n",
       "      <th>47</th>\n",
       "      <td>but none of which amounts to much of a story</td>\n",
       "      <td>0</td>\n",
       "    </tr>\n",
       "    <tr>\n",
       "      <th>49</th>\n",
       "      <td>none of which amounts to much of a story</td>\n",
       "      <td>0</td>\n",
       "    </tr>\n",
       "  </tbody>\n",
       "</table>\n",
       "</div>"
      ],
      "text/plain": [
       "                                               Phrase  Sentiment_Rating\n",
       "0   A series of escapades demonstrating the adage ...                 0\n",
       "21                                 good for the goose                 1\n",
       "22                                               good                 1\n",
       "33  the gander , some of which occasionally amuses...                 0\n",
       "46                                             amuses                 1\n",
       "47       but none of which amounts to much of a story                 0\n",
       "49           none of which amounts to much of a story                 0"
      ]
     },
     "execution_count": 22,
     "metadata": {},
     "output_type": "execute_result"
    }
   ],
   "source": [
    "reviews[[\"Phrase\", \"Sentiment_Rating\"]].head(7)"
   ]
  },
  {
   "cell_type": "markdown",
   "metadata": {},
   "source": [
    "The independent variables or model features are derived from the review text.\n",
    "\n",
    "Reading each of the review ,it is clear for the instance ,\"good\" is mentioned in context like \"not so good\" or \" sounds good\".This indicated that in the world of text we can not go by single word, alo called(1-gram).\n",
    "\n",
    "\"n-grams\" Since 1-gram are sometimes insufficient to understand the significance of certain words in our text,it is natural to consider block of words or n-grams."
   ]
  },
  {
   "cell_type": "code",
   "execution_count": 23,
   "metadata": {},
   "outputs": [],
   "source": [
    "from nltk import ngrams"
   ]
  },
  {
   "cell_type": "markdown",
   "metadata": {},
   "source": [
    "# Bag-of-Words"
   ]
  },
  {
   "cell_type": "markdown",
   "metadata": {},
   "source": [
    "The bag-of-words model is a simplifying representation used in natural language processing and information retrieval.\n",
    "\n",
    "Lets create a word document co occurance matrix for our set of reviews using the 'CountVectorizer', that automatically accounts for certain preprocessing steps like removing stopwords,stemming, creating ngrams, word tokenization"
   ]
  },
  {
   "cell_type": "code",
   "execution_count": 24,
   "metadata": {},
   "outputs": [
    {
     "data": {
      "text/html": [
       "<div>\n",
       "<style scoped>\n",
       "    .dataframe tbody tr th:only-of-type {\n",
       "        vertical-align: middle;\n",
       "    }\n",
       "\n",
       "    .dataframe tbody tr th {\n",
       "        vertical-align: top;\n",
       "    }\n",
       "\n",
       "    .dataframe thead th {\n",
       "        text-align: right;\n",
       "    }\n",
       "</style>\n",
       "<table border=\"1\" class=\"dataframe\">\n",
       "  <thead>\n",
       "    <tr style=\"text-align: right;\">\n",
       "      <th></th>\n",
       "      <th>000</th>\n",
       "      <th>10</th>\n",
       "      <th>100</th>\n",
       "      <th>101</th>\n",
       "      <th>102</th>\n",
       "      <th>103</th>\n",
       "      <th>104</th>\n",
       "      <th>105</th>\n",
       "      <th>10th</th>\n",
       "      <th>11</th>\n",
       "      <th>...</th>\n",
       "      <th>ziyi</th>\n",
       "      <th>zoe</th>\n",
       "      <th>zombie</th>\n",
       "      <th>zone</th>\n",
       "      <th>zoning</th>\n",
       "      <th>zoolander</th>\n",
       "      <th>zoom</th>\n",
       "      <th>zucker</th>\n",
       "      <th>zwick</th>\n",
       "      <th>zzzzzzzzz</th>\n",
       "    </tr>\n",
       "  </thead>\n",
       "  <tbody>\n",
       "    <tr>\n",
       "      <th>0</th>\n",
       "      <td>0</td>\n",
       "      <td>0</td>\n",
       "      <td>0</td>\n",
       "      <td>0</td>\n",
       "      <td>0</td>\n",
       "      <td>0</td>\n",
       "      <td>0</td>\n",
       "      <td>0</td>\n",
       "      <td>0</td>\n",
       "      <td>0</td>\n",
       "      <td>...</td>\n",
       "      <td>0</td>\n",
       "      <td>0</td>\n",
       "      <td>0</td>\n",
       "      <td>0</td>\n",
       "      <td>0</td>\n",
       "      <td>0</td>\n",
       "      <td>0</td>\n",
       "      <td>0</td>\n",
       "      <td>0</td>\n",
       "      <td>0</td>\n",
       "    </tr>\n",
       "    <tr>\n",
       "      <th>1</th>\n",
       "      <td>0</td>\n",
       "      <td>0</td>\n",
       "      <td>0</td>\n",
       "      <td>0</td>\n",
       "      <td>0</td>\n",
       "      <td>0</td>\n",
       "      <td>0</td>\n",
       "      <td>0</td>\n",
       "      <td>0</td>\n",
       "      <td>0</td>\n",
       "      <td>...</td>\n",
       "      <td>0</td>\n",
       "      <td>0</td>\n",
       "      <td>0</td>\n",
       "      <td>0</td>\n",
       "      <td>0</td>\n",
       "      <td>0</td>\n",
       "      <td>0</td>\n",
       "      <td>0</td>\n",
       "      <td>0</td>\n",
       "      <td>0</td>\n",
       "    </tr>\n",
       "    <tr>\n",
       "      <th>2</th>\n",
       "      <td>0</td>\n",
       "      <td>0</td>\n",
       "      <td>0</td>\n",
       "      <td>0</td>\n",
       "      <td>0</td>\n",
       "      <td>0</td>\n",
       "      <td>0</td>\n",
       "      <td>0</td>\n",
       "      <td>0</td>\n",
       "      <td>0</td>\n",
       "      <td>...</td>\n",
       "      <td>0</td>\n",
       "      <td>0</td>\n",
       "      <td>0</td>\n",
       "      <td>0</td>\n",
       "      <td>0</td>\n",
       "      <td>0</td>\n",
       "      <td>0</td>\n",
       "      <td>0</td>\n",
       "      <td>0</td>\n",
       "      <td>0</td>\n",
       "    </tr>\n",
       "    <tr>\n",
       "      <th>3</th>\n",
       "      <td>0</td>\n",
       "      <td>0</td>\n",
       "      <td>0</td>\n",
       "      <td>0</td>\n",
       "      <td>0</td>\n",
       "      <td>0</td>\n",
       "      <td>0</td>\n",
       "      <td>0</td>\n",
       "      <td>0</td>\n",
       "      <td>0</td>\n",
       "      <td>...</td>\n",
       "      <td>0</td>\n",
       "      <td>0</td>\n",
       "      <td>0</td>\n",
       "      <td>0</td>\n",
       "      <td>0</td>\n",
       "      <td>0</td>\n",
       "      <td>0</td>\n",
       "      <td>0</td>\n",
       "      <td>0</td>\n",
       "      <td>0</td>\n",
       "    </tr>\n",
       "    <tr>\n",
       "      <th>4</th>\n",
       "      <td>0</td>\n",
       "      <td>0</td>\n",
       "      <td>0</td>\n",
       "      <td>0</td>\n",
       "      <td>0</td>\n",
       "      <td>0</td>\n",
       "      <td>0</td>\n",
       "      <td>0</td>\n",
       "      <td>0</td>\n",
       "      <td>0</td>\n",
       "      <td>...</td>\n",
       "      <td>0</td>\n",
       "      <td>0</td>\n",
       "      <td>0</td>\n",
       "      <td>0</td>\n",
       "      <td>0</td>\n",
       "      <td>0</td>\n",
       "      <td>0</td>\n",
       "      <td>0</td>\n",
       "      <td>0</td>\n",
       "      <td>0</td>\n",
       "    </tr>\n",
       "  </tbody>\n",
       "</table>\n",
       "<p>5 rows × 15002 columns</p>\n",
       "</div>"
      ],
      "text/plain": [
       "   000  10  100  101  102  103  104  105  10th  11  ...  ziyi  zoe  zombie  \\\n",
       "0    0   0    0    0    0    0    0    0     0   0  ...     0    0       0   \n",
       "1    0   0    0    0    0    0    0    0     0   0  ...     0    0       0   \n",
       "2    0   0    0    0    0    0    0    0     0   0  ...     0    0       0   \n",
       "3    0   0    0    0    0    0    0    0     0   0  ...     0    0       0   \n",
       "4    0   0    0    0    0    0    0    0     0   0  ...     0    0       0   \n",
       "\n",
       "   zone  zoning  zoolander  zoom  zucker  zwick  zzzzzzzzz  \n",
       "0     0       0          0     0       0      0          0  \n",
       "1     0       0          0     0       0      0          0  \n",
       "2     0       0          0     0       0      0          0  \n",
       "3     0       0          0     0       0      0          0  \n",
       "4     0       0          0     0       0      0          0  \n",
       "\n",
       "[5 rows x 15002 columns]"
      ]
     },
     "execution_count": 24,
     "metadata": {},
     "output_type": "execute_result"
    }
   ],
   "source": [
    "#Creating word document matrix\n",
    "from sklearn.feature_extraction.text import CountVectorizer\n",
    "\n",
    "vec = CountVectorizer()\n",
    "X = vec.fit_transform(reviews[\"review_phrase_new\"])\n",
    "df = pd.DataFrame(X.toarray(), columns = vec.get_feature_names())\n",
    "df.head()"
   ]
  },
  {
   "cell_type": "markdown",
   "metadata": {},
   "source": [
    "Using this to create bag of words from the reviews, excluding the noise words we identified earlier."
   ]
  },
  {
   "cell_type": "code",
   "execution_count": 25,
   "metadata": {},
   "outputs": [],
   "source": [
    "#Creating a python object of class CountVectorizer\n",
    "\n",
    "bow_counts = CountVectorizer(tokenizer=word_tokenize, #type of tokenizer\n",
    "                              stop_words=noise_words, #list of stopwords\n",
    "                              ngram_range=(2,2)) #number of ngrams\n",
    "\n",
    "\n",
    "bow_data = bow_counts.fit_transform(reviews[\"review_phrase_new\"])"
   ]
  },
  {
   "cell_type": "code",
   "execution_count": 26,
   "metadata": {},
   "outputs": [
    {
     "data": {
      "text/plain": [
       "<76478x77351 sparse matrix of type '<class 'numpy.int64'>'\n",
       "\twith 596366 stored elements in Compressed Sparse Row format>"
      ]
     },
     "execution_count": 26,
     "metadata": {},
     "output_type": "execute_result"
    }
   ],
   "source": [
    "bow_data"
   ]
  },
  {
   "cell_type": "markdown",
   "metadata": {},
   "source": [
    "Observation: The sparse matrix of 76478 observations(number of rows of review_phrase_new series) has been built and 77353 columns corresponding to the feature extracted by means of represenataion of 1-gram count of the user review.\n",
    "\n",
    "Once the bag of words is prepared, the dataset should be divided into training and tests dataset."
   ]
  },
  {
   "cell_type": "code",
   "execution_count": 27,
   "metadata": {},
   "outputs": [],
   "source": [
    "X_train_bow,X_test_bow,y_train_bow,y_test_bow = train_test_split(bow_data, #features\n",
    "                                                                reviews[\"Sentiment_Rating\"], #target variable\n",
    "                                                                test_size =0.2, #20% test size\n",
    "                                                                random_state = 0) #random state for replication purpose"
   ]
  },
  {
   "cell_type": "code",
   "execution_count": 28,
   "metadata": {},
   "outputs": [
    {
     "data": {
      "text/plain": [
       "1    0.543998\n",
       "0    0.456002\n",
       "Name: Sentiment_Rating, dtype: float64"
      ]
     },
     "execution_count": 28,
     "metadata": {},
     "output_type": "execute_result"
    }
   ],
   "source": [
    "y_test_bow.value_counts()/y_test_bow.shape[0]"
   ]
  },
  {
   "cell_type": "markdown",
   "metadata": {},
   "source": [
    "Observation: The test data contains 54% positive sentiment reviews.So, if we classify all our reviews positive, then our model would achieve an accuracy of 54%. This is the baseline that any model we create must beat.We have an imbalance in the classes.However, an intermediate step, techniques, sub sampling or oversampling can be applied."
   ]
  },
  {
   "cell_type": "markdown",
   "metadata": {},
   "source": [
    "# Applying Logistic Regression"
   ]
  },
  {
   "cell_type": "markdown",
   "metadata": {},
   "source": [
    "Let's train the model on our training dataand run our resulting model on our test data:"
   ]
  },
  {
   "cell_type": "code",
   "execution_count": 29,
   "metadata": {},
   "outputs": [
    {
     "name": "stdout",
     "output_type": "stream",
     "text": [
      "F1 Score:  0.893405083581406\n"
     ]
    }
   ],
   "source": [
    "#Traning the model\n",
    "lr_model_all = LogisticRegression()\n",
    "lr_model_all.fit(X_train_bow, y_train_bow) #fitting a LR model\n",
    "\n",
    "#predicting the output\n",
    "test_pred_lr_all = lr_model_all.predict(X_test_bow)  #class prediction\n",
    "\n",
    "#Calculate key performance metrics\n",
    "print(\"F1 Score: \", f1_score(y_test_bow,test_pred_lr_all))"
   ]
  },
  {
   "cell_type": "markdown",
   "metadata": {},
   "source": [
    "Let's modify the set of features in the model to include bigrams,trigrams, 4-grams."
   ]
  },
  {
   "cell_type": "code",
   "execution_count": 30,
   "metadata": {},
   "outputs": [],
   "source": [
    "#change with respect to previos code\n",
    "##1. Increasing the n-grams from ust having 1-gram to (1-gram,2-gram, 3-gram,4-gram)\n",
    "##2. Including the stopwords in bag of words features\n",
    "\n",
    "bow_counts = CountVectorizer(tokenizer=word_tokenize,\n",
    "                             ngram_range=(1,4))\n",
    "\n",
    "bow_data = bow_counts.fit_transform(reviews.review_phrase_new)"
   ]
  },
  {
   "cell_type": "code",
   "execution_count": 31,
   "metadata": {},
   "outputs": [
    {
     "data": {
      "text/plain": [
       "<76478x317249 sparse matrix of type '<class 'numpy.int64'>'\n",
       "\twith 2227173 stored elements in Compressed Sparse Row format>"
      ]
     },
     "execution_count": 31,
     "metadata": {},
     "output_type": "execute_result"
    }
   ],
   "source": [
    "#notice the increase in features with inclusion ngram\n",
    "bow_data"
   ]
  },
  {
   "cell_type": "code",
   "execution_count": 32,
   "metadata": {},
   "outputs": [],
   "source": [
    "X_train_bow,X_test_bow,y_train_bow,y_test_bow = train_test_split(bow_data, #features\n",
    "                                                                reviews[\"Sentiment_Rating\"], #target variable\n",
    "                                                                test_size =0.2, #20% test size\n",
    "                                                                random_state = 0) #random state for replication purpose"
   ]
  },
  {
   "cell_type": "code",
   "execution_count": 33,
   "metadata": {},
   "outputs": [
    {
     "name": "stdout",
     "output_type": "stream",
     "text": [
      "F1 Score:  0.9265115177355362\n"
     ]
    }
   ],
   "source": [
    "#Defining and training the model\n",
    "\n",
    "lr_model_all_new = LogisticRegression(max_iter = 200)\n",
    "lr_model_all_new.fit(X_train_bow, y_train_bow) \n",
    "\n",
    "\n",
    "#predicting the results\n",
    "test_pred_lr_all = lr_model_all_new.predict(X_test_bow)\n",
    "\n",
    "#Calculate key performance metrics\n",
    "print(\"F1 Score: \", f1_score(y_test_bow,test_pred_lr_all))"
   ]
  },
  {
   "cell_type": "markdown",
   "metadata": {},
   "source": [
    "The F1 score has jumped slightly. This is called as hyperparameter tuning and input features modifiaction can do the overall performance. We can get interpretable features from this in tearms of what contributed the most of positive and negative sentiment:"
   ]
  },
  {
   "cell_type": "code",
   "execution_count": 34,
   "metadata": {},
   "outputs": [
    {
     "data": {
      "text/html": [
       "<div>\n",
       "<style scoped>\n",
       "    .dataframe tbody tr th:only-of-type {\n",
       "        vertical-align: middle;\n",
       "    }\n",
       "\n",
       "    .dataframe tbody tr th {\n",
       "        vertical-align: top;\n",
       "    }\n",
       "\n",
       "    .dataframe thead th {\n",
       "        text-align: right;\n",
       "    }\n",
       "</style>\n",
       "<table border=\"1\" class=\"dataframe\">\n",
       "  <thead>\n",
       "    <tr style=\"text-align: right;\">\n",
       "      <th></th>\n",
       "      <th>words</th>\n",
       "      <th>weights</th>\n",
       "    </tr>\n",
       "  </thead>\n",
       "  <tbody>\n",
       "    <tr>\n",
       "      <th>87445</th>\n",
       "      <td>entertaining</td>\n",
       "      <td>2.835779</td>\n",
       "    </tr>\n",
       "    <tr>\n",
       "      <th>120746</th>\n",
       "      <td>hilarious</td>\n",
       "      <td>2.738145</td>\n",
       "    </tr>\n",
       "    <tr>\n",
       "      <th>94485</th>\n",
       "      <td>fascinating</td>\n",
       "      <td>2.731165</td>\n",
       "    </tr>\n",
       "    <tr>\n",
       "      <th>44541</th>\n",
       "      <td>beautiful</td>\n",
       "      <td>2.709838</td>\n",
       "    </tr>\n",
       "    <tr>\n",
       "      <th>86734</th>\n",
       "      <td>enjoyable</td>\n",
       "      <td>2.670275</td>\n",
       "    </tr>\n",
       "    <tr>\n",
       "      <th>111513</th>\n",
       "      <td>good</td>\n",
       "      <td>2.650455</td>\n",
       "    </tr>\n",
       "    <tr>\n",
       "      <th>107110</th>\n",
       "      <td>fun</td>\n",
       "      <td>2.610952</td>\n",
       "    </tr>\n",
       "    <tr>\n",
       "      <th>180348</th>\n",
       "      <td>not a bad</td>\n",
       "      <td>2.590633</td>\n",
       "    </tr>\n",
       "    <tr>\n",
       "      <th>51511</th>\n",
       "      <td>brilliant</td>\n",
       "      <td>2.589970</td>\n",
       "    </tr>\n",
       "    <tr>\n",
       "      <th>107423</th>\n",
       "      <td>funny</td>\n",
       "      <td>2.550615</td>\n",
       "    </tr>\n",
       "    <tr>\n",
       "      <th>207534</th>\n",
       "      <td>powerful</td>\n",
       "      <td>2.545482</td>\n",
       "    </tr>\n",
       "    <tr>\n",
       "      <th>255544</th>\n",
       "      <td>terrific</td>\n",
       "      <td>2.504278</td>\n",
       "    </tr>\n",
       "    <tr>\n",
       "      <th>311683</th>\n",
       "      <td>wonderful</td>\n",
       "      <td>2.467401</td>\n",
       "    </tr>\n",
       "    <tr>\n",
       "      <th>60836</th>\n",
       "      <td>charming</td>\n",
       "      <td>2.455083</td>\n",
       "    </tr>\n",
       "    <tr>\n",
       "      <th>135680</th>\n",
       "      <td>intriguing</td>\n",
       "      <td>2.360280</td>\n",
       "    </tr>\n",
       "  </tbody>\n",
       "</table>\n",
       "</div>"
      ],
      "text/plain": [
       "               words   weights\n",
       "87445   entertaining  2.835779\n",
       "120746     hilarious  2.738145\n",
       "94485    fascinating  2.731165\n",
       "44541      beautiful  2.709838\n",
       "86734      enjoyable  2.670275\n",
       "111513          good  2.650455\n",
       "107110           fun  2.610952\n",
       "180348     not a bad  2.590633\n",
       "51511      brilliant  2.589970\n",
       "107423         funny  2.550615\n",
       "207534      powerful  2.545482\n",
       "255544      terrific  2.504278\n",
       "311683     wonderful  2.467401\n",
       "60836       charming  2.455083\n",
       "135680    intriguing  2.360280"
      ]
     },
     "execution_count": 34,
     "metadata": {},
     "output_type": "execute_result"
    }
   ],
   "source": [
    "lr_weights = pd.DataFrame(list(zip(bow_counts.get_feature_names(),\n",
    "                                  lr_model_all_new.coef_[0])),\n",
    "                         columns = [\"words\",\"weights\"])\n",
    "\n",
    "lr_weights.sort_values([\"weights\"], ascending = False)[:15]"
   ]
  },
  {
   "cell_type": "markdown",
   "metadata": {},
   "source": [
    "# TF - IDF Model"
   ]
  },
  {
   "cell_type": "markdown",
   "metadata": {},
   "source": [
    "There is another way to featurise text which is Term Frequency Inverse Document Frequency(TF - IDF) model. This evaluates how important a word is to a document within a large collection of documents.\n",
    "\n",
    "Let's re-featurize our original set of reviews based on TF - IDF Model and split the resulting features into train_test_split:"
   ]
  },
  {
   "cell_type": "code",
   "execution_count": 35,
   "metadata": {},
   "outputs": [],
   "source": [
    "from sklearn.feature_extraction.text import TfidfVectorizer\n",
    "\n",
    "tfidf_counts = TfidfVectorizer(tokenizer=word_tokenize, #type of tokenizer\n",
    "                              stop_words=noise_words, #list of stopwords\n",
    "                              ngram_range=(1,1)) #number of ngrams\n",
    "\n",
    "tfidf_data = tfidf_counts.fit_transform(reviews[\"review_phrase_new\"])"
   ]
  },
  {
   "cell_type": "code",
   "execution_count": 36,
   "metadata": {},
   "outputs": [
    {
     "data": {
      "text/plain": [
       "<76478x15035 sparse matrix of type '<class 'numpy.float64'>'\n",
       "\twith 642480 stored elements in Compressed Sparse Row format>"
      ]
     },
     "execution_count": 36,
     "metadata": {},
     "output_type": "execute_result"
    }
   ],
   "source": [
    "tfidf_data"
   ]
  },
  {
   "cell_type": "code",
   "execution_count": 37,
   "metadata": {},
   "outputs": [],
   "source": [
    "X_train_tfidf,X_test_tfidf,y_train_tfidf,y_test_tfidf = train_test_split(tfidf_data, #features\n",
    "                                                                reviews[\"Sentiment_Rating\"], #target variable\n",
    "                                                                test_size =0.2, #20% test size\n",
    "                                                                random_state = 0) #random state for replication purpose"
   ]
  },
  {
   "cell_type": "markdown",
   "metadata": {},
   "source": [
    "# Applying Logistic Regression on TF-IDF features"
   ]
  },
  {
   "cell_type": "code",
   "execution_count": 38,
   "metadata": {},
   "outputs": [
    {
     "name": "stdout",
     "output_type": "stream",
     "text": [
      "F1 Score:  0.8937681245191454\n"
     ]
    }
   ],
   "source": [
    "#applying logistic Regression to the feature created on TF-IDF \n",
    "\n",
    "lr_model_tf_idf = LogisticRegression()\n",
    "lr_model_tf_idf.fit(X_train_tfidf, y_train_tfidf) \n",
    "\n",
    "\n",
    "#predicting the results\n",
    "test_pred_tf_idf = lr_model_tf_idf.predict(X_test_tfidf)\n",
    "\n",
    "#Calculate key performance metrics\n",
    "print(\"F1 Score: \", f1_score(y_test_tfidf,test_pred_tf_idf))"
   ]
  },
  {
   "cell_type": "markdown",
   "metadata": {},
   "source": [
    "Here, we have decreased slightly our F1 score of TF-IDF as compared to Bag-of-words approach"
   ]
  },
  {
   "cell_type": "markdown",
   "metadata": {},
   "source": [
    "# Conclusion\n",
    "\n",
    "In this case, I cleaned up and featurized reviews dataset and built in some classification models on these featurizations to predict sentiment.We saw that bag-of-words and Tf-idf both gave interpretable features.Through increase the set of n-grams we used from 1-gram to 4-gram,we were able to get our logistic regression model 92%.\n",
    "\n",
    "Building Machine learning models on text is a very involved discipline.Important things of note are as follows:\n",
    "\n",
    "Although there are different types of pre-processingf involved in textual data, not everything has to be applied in each case.\n",
    "Hyperparameter tuning in machine learning is a very important step. We cant go ahead training a model with default parameters.Different sets of parameters have to be ttried to see what contributes to the model is best.\n",
    "Every NLP classification task is different, but the process to be followed is similar to what we did in this case: wrangle the data --> create features from text --> train ML models."
   ]
  },
  {
   "cell_type": "code",
   "execution_count": null,
   "metadata": {},
   "outputs": [],
   "source": []
  }
 ],
 "metadata": {
  "kernelspec": {
   "display_name": "Python 3",
   "language": "python",
   "name": "python3"
  },
  "language_info": {
   "codemirror_mode": {
    "name": "ipython",
    "version": 3
   },
   "file_extension": ".py",
   "mimetype": "text/x-python",
   "name": "python",
   "nbconvert_exporter": "python",
   "pygments_lexer": "ipython3",
   "version": "3.8.3"
  }
 },
 "nbformat": 4,
 "nbformat_minor": 4
}
